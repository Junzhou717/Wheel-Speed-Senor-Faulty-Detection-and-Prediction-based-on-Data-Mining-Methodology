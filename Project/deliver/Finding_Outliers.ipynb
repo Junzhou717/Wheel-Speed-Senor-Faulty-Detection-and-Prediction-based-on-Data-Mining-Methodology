{
 "cells": [
  {
   "cell_type": "markdown",
   "metadata": {},
   "source": [
    "# Finding Outliers\n",
    "\n",
    "## Summary\n",
    "This document will show how to find outliers in the dataset wss_manufacturer_classify. "
   ]
  },
  {
   "cell_type": "markdown",
   "metadata": {},
   "source": [
    "## Questions to be answered\n",
    "- Why should we find the outliers in the dataset? How will the outliers on na_value_ratio affect the classification?\n",
    "- What is the confidence level and confidence interval of the mean value of na_value_ratio ?"
   ]
  },
  {
   "cell_type": "markdown",
   "metadata": {},
   "source": [
    "### Answers to the 1st Questions\n",
    "- The outliers may influence the classification performance of the algorithms. In the initial data analysis, it shows that several data points are wrongly classified. The reason is that high na_value_ratio causes low mean value of the speed, which will lead to wrong classification. The task is to find them."
   ]
  },
  {
   "cell_type": "markdown",
   "metadata": {},
   "source": [
    "### Imports\n",
    "Imports should be grouped in the following order:\n",
    "1. Magics\n",
    "\n",
    "2. Alphabetical order\n",
    "    \n",
    "    A. standard librarby imports\n",
    "    \n",
    "    B. related 3rd party imports\n",
    "    \n",
    "    C. local application/library specific imports"
   ]
  },
  {
   "cell_type": "code",
   "execution_count": 1,
   "metadata": {
    "collapsed": true
   },
   "outputs": [],
   "source": [
    "# Standard library\n",
    "import os\n",
    "import sys\n",
    "# sys.path.append('../src/')\n",
    "\n",
    "# Third party imports\n",
    "import matplotlib.pyplot as plt\n",
    "import numpy as np\n",
    "import pandas as pd\n",
    "import seaborn as sns\n",
    "import math\n",
    "\n",
    "# Local imports"
   ]
  },
  {
   "cell_type": "code",
   "execution_count": 2,
   "metadata": {
    "collapsed": true
   },
   "outputs": [],
   "source": [
    "# Customizations\n",
    "sns.set() # matplotlib defaults\n",
    "\n",
    "# Any tweaks that normally go in .matplotlibrc, etc., should be explicitly stated here\n",
    "plt.rcParams['figure.figsize'] = (12,8)\n",
    "%config InlineBackend.figure_format = 'retina'"
   ]
  },
  {
   "cell_type": "code",
   "execution_count": 4,
   "metadata": {
    "collapsed": true
   },
   "outputs": [],
   "source": [
    "# # Find  the notebook the saved figures came from\n",
    "# fig_prefix = '../figures/2016-12-07-rm-'"
   ]
  },
  {
   "cell_type": "markdown",
   "metadata": {},
   "source": [
    "### Load data"
   ]
  },
  {
   "cell_type": "markdown",
   "metadata": {},
   "source": [
    "#### Import clean data"
   ]
  },
  {
   "cell_type": "code",
   "execution_count": 3,
   "metadata": {
    "collapsed": true
   },
   "outputs": [],
   "source": [
    "df = pd.read_pickle('../data/wss_manufacturer_classify') #this dataset is used to do the manufacturer classification"
   ]
  },
  {
   "cell_type": "markdown",
   "metadata": {},
   "source": [
    "#### Problem statement\n",
    "Statistical interval estimation will be used to calculate the interval of mean value of na_value_ratio. We concern more about the upper limit of na_value_ratio, so unilateral confidence interval is used in this sitiuatiion. The fomula used is $$(-\\infty, \\overline X + \\frac{S}{\\sqrt{n}}t_{\\alpha}(n-1))$$ to obtain a confidence interval of na_value_ratio mean value with a confidence level of $1-\\alpha $. Here we choose $\\alpha = 0.005$, then $t_{0.005}(60) = 2.660$. $$(0, \\frac{(n-1)S^{2}}{\\chi_{1-\\alpha }^{2}(n-1)})$$ is used to obatain a confidence interval of na_value_ratio square of standard deviation with a confidence level of $1-\\alpha $. Here we choose $\\alpha = 0.01$, then $\\chi_{0.99}^{2}(60) = 88.379$ "
   ]
  },
  {
   "cell_type": "code",
   "execution_count": 4,
   "metadata": {
    "collapsed": true
   },
   "outputs": [],
   "source": [
    "#There are 2 manufacturers in this dataset. So the confidence intervals will be calculated respectively.\n",
    "df1 = df[df['manufacturer'] == 'Knorr Bremse'] # The data describing Knoorr Bremse\n",
    "test1 = df1.sample(n = 61) # we choose 61 samples from the dataset\n",
    "df2 = df[df['manufacturer'] == 'Haldex'] # The data describing Haldex\n",
    "test2 = df2.sample(n = 61) # we choose 61 samples from the dataset"
   ]
  },
  {
   "cell_type": "code",
   "execution_count": 5,
   "metadata": {},
   "outputs": [
    {
     "data": {
      "text/html": [
       "<div>\n",
       "<style>\n",
       "    .dataframe thead tr:only-child th {\n",
       "        text-align: right;\n",
       "    }\n",
       "\n",
       "    .dataframe thead th {\n",
       "        text-align: left;\n",
       "    }\n",
       "\n",
       "    .dataframe tbody tr th {\n",
       "        vertical-align: top;\n",
       "    }\n",
       "</style>\n",
       "<table border=\"1\" class=\"dataframe\">\n",
       "  <thead>\n",
       "    <tr style=\"text-align: right;\">\n",
       "      <th></th>\n",
       "      <th>na_value_ratio</th>\n",
       "      <th>mean</th>\n",
       "      <th>max</th>\n",
       "      <th>std</th>\n",
       "    </tr>\n",
       "  </thead>\n",
       "  <tbody>\n",
       "    <tr>\n",
       "      <th>count</th>\n",
       "      <td>61.000000</td>\n",
       "      <td>61.000000</td>\n",
       "      <td>61.000000</td>\n",
       "      <td>61.000000</td>\n",
       "    </tr>\n",
       "    <tr>\n",
       "      <th>mean</th>\n",
       "      <td>0.006879</td>\n",
       "      <td>7.608590</td>\n",
       "      <td>72.000000</td>\n",
       "      <td>11.128119</td>\n",
       "    </tr>\n",
       "    <tr>\n",
       "      <th>std</th>\n",
       "      <td>0.007957</td>\n",
       "      <td>3.306473</td>\n",
       "      <td>24.941933</td>\n",
       "      <td>4.422640</td>\n",
       "    </tr>\n",
       "    <tr>\n",
       "      <th>min</th>\n",
       "      <td>0.000000</td>\n",
       "      <td>0.400000</td>\n",
       "      <td>1.000000</td>\n",
       "      <td>0.534522</td>\n",
       "    </tr>\n",
       "    <tr>\n",
       "      <th>25%</th>\n",
       "      <td>0.000000</td>\n",
       "      <td>5.562500</td>\n",
       "      <td>70.000000</td>\n",
       "      <td>9.819748</td>\n",
       "    </tr>\n",
       "    <tr>\n",
       "      <th>50%</th>\n",
       "      <td>0.004717</td>\n",
       "      <td>6.735294</td>\n",
       "      <td>82.000000</td>\n",
       "      <td>10.967289</td>\n",
       "    </tr>\n",
       "    <tr>\n",
       "      <th>75%</th>\n",
       "      <td>0.010228</td>\n",
       "      <td>9.942519</td>\n",
       "      <td>86.000000</td>\n",
       "      <td>11.933306</td>\n",
       "    </tr>\n",
       "    <tr>\n",
       "      <th>max</th>\n",
       "      <td>0.027253</td>\n",
       "      <td>21.125000</td>\n",
       "      <td>126.000000</td>\n",
       "      <td>35.089427</td>\n",
       "    </tr>\n",
       "  </tbody>\n",
       "</table>\n",
       "</div>"
      ],
      "text/plain": [
       "       na_value_ratio       mean         max        std\n",
       "count       61.000000  61.000000   61.000000  61.000000\n",
       "mean         0.006879   7.608590   72.000000  11.128119\n",
       "std          0.007957   3.306473   24.941933   4.422640\n",
       "min          0.000000   0.400000    1.000000   0.534522\n",
       "25%          0.000000   5.562500   70.000000   9.819748\n",
       "50%          0.004717   6.735294   82.000000  10.967289\n",
       "75%          0.010228   9.942519   86.000000  11.933306\n",
       "max          0.027253  21.125000  126.000000  35.089427"
      ]
     },
     "execution_count": 5,
     "metadata": {},
     "output_type": "execute_result"
    }
   ],
   "source": [
    "test1.describe()"
   ]
  },
  {
   "cell_type": "code",
   "execution_count": 6,
   "metadata": {},
   "outputs": [
    {
     "data": {
      "text/html": [
       "<div>\n",
       "<style>\n",
       "    .dataframe thead tr:only-child th {\n",
       "        text-align: right;\n",
       "    }\n",
       "\n",
       "    .dataframe thead th {\n",
       "        text-align: left;\n",
       "    }\n",
       "\n",
       "    .dataframe tbody tr th {\n",
       "        vertical-align: top;\n",
       "    }\n",
       "</style>\n",
       "<table border=\"1\" class=\"dataframe\">\n",
       "  <thead>\n",
       "    <tr style=\"text-align: right;\">\n",
       "      <th></th>\n",
       "      <th>na_value_ratio</th>\n",
       "      <th>mean</th>\n",
       "      <th>max</th>\n",
       "      <th>std</th>\n",
       "    </tr>\n",
       "  </thead>\n",
       "  <tbody>\n",
       "    <tr>\n",
       "      <th>count</th>\n",
       "      <td>61.000000</td>\n",
       "      <td>61.000000</td>\n",
       "      <td>61.000000</td>\n",
       "      <td>61.000000</td>\n",
       "    </tr>\n",
       "    <tr>\n",
       "      <th>mean</th>\n",
       "      <td>0.054404</td>\n",
       "      <td>128.565361</td>\n",
       "      <td>248.852459</td>\n",
       "      <td>105.282110</td>\n",
       "    </tr>\n",
       "    <tr>\n",
       "      <th>std</th>\n",
       "      <td>0.076218</td>\n",
       "      <td>18.935021</td>\n",
       "      <td>5.638664</td>\n",
       "      <td>3.618832</td>\n",
       "    </tr>\n",
       "    <tr>\n",
       "      <th>min</th>\n",
       "      <td>0.000000</td>\n",
       "      <td>68.666667</td>\n",
       "      <td>206.000000</td>\n",
       "      <td>98.540989</td>\n",
       "    </tr>\n",
       "    <tr>\n",
       "      <th>25%</th>\n",
       "      <td>0.021277</td>\n",
       "      <td>123.785714</td>\n",
       "      <td>250.000000</td>\n",
       "      <td>102.487565</td>\n",
       "    </tr>\n",
       "    <tr>\n",
       "      <th>50%</th>\n",
       "      <td>0.027893</td>\n",
       "      <td>133.414989</td>\n",
       "      <td>250.000000</td>\n",
       "      <td>104.630707</td>\n",
       "    </tr>\n",
       "    <tr>\n",
       "      <th>75%</th>\n",
       "      <td>0.042714</td>\n",
       "      <td>139.768987</td>\n",
       "      <td>250.000000</td>\n",
       "      <td>107.630308</td>\n",
       "    </tr>\n",
       "    <tr>\n",
       "      <th>max</th>\n",
       "      <td>0.400000</td>\n",
       "      <td>158.092643</td>\n",
       "      <td>250.000000</td>\n",
       "      <td>117.972313</td>\n",
       "    </tr>\n",
       "  </tbody>\n",
       "</table>\n",
       "</div>"
      ],
      "text/plain": [
       "       na_value_ratio        mean         max         std\n",
       "count       61.000000   61.000000   61.000000   61.000000\n",
       "mean         0.054404  128.565361  248.852459  105.282110\n",
       "std          0.076218   18.935021    5.638664    3.618832\n",
       "min          0.000000   68.666667  206.000000   98.540989\n",
       "25%          0.021277  123.785714  250.000000  102.487565\n",
       "50%          0.027893  133.414989  250.000000  104.630707\n",
       "75%          0.042714  139.768987  250.000000  107.630308\n",
       "max          0.400000  158.092643  250.000000  117.972313"
      ]
     },
     "execution_count": 6,
     "metadata": {},
     "output_type": "execute_result"
    }
   ],
   "source": [
    "test2.describe()"
   ]
  },
  {
   "cell_type": "markdown",
   "metadata": {},
   "source": [
    "From the output above, it can be find that:\n",
    "- For the data from Knorr Bremse, $\\overline X = 0.006879$, $S = 0.007957$. Then the confidence interval of na_value_ratio mean value is $(-\\infty, 0.006879 + \\frac{0.007957}{\\sqrt{61}}*2.660$, which is $(0, 0.009589)$. Then the confidence interval of na_value_ratio standard deviation is $(0, \\frac{60*0.007957*0.007957}{88.379})$, which is (0, 0.006556)\n",
    "- For the data from Haldex, $\\overline X = 0.054404$, $S = 0.076218$. Then the confidence interval is $(-\\infty, 0.054404 + \\frac{0.076218}{\\sqrt{61}}*2.660$, which is $(0, 0.080362)$. Then the confidence interval of na_value_ratio standard deviation is $(0, \\frac{60*0.076218*0.076218}{88.379})$, which is (0, 0.062800)"
   ]
  },
  {
   "cell_type": "code",
   "execution_count": 7,
   "metadata": {},
   "outputs": [
    {
     "data": {
      "text/html": [
       "<div>\n",
       "<style>\n",
       "    .dataframe thead tr:only-child th {\n",
       "        text-align: right;\n",
       "    }\n",
       "\n",
       "    .dataframe thead th {\n",
       "        text-align: left;\n",
       "    }\n",
       "\n",
       "    .dataframe tbody tr th {\n",
       "        vertical-align: top;\n",
       "    }\n",
       "</style>\n",
       "<table border=\"1\" class=\"dataframe\">\n",
       "  <thead>\n",
       "    <tr style=\"text-align: right;\">\n",
       "      <th></th>\n",
       "      <th>itapudid</th>\n",
       "      <th>na_value_ratio</th>\n",
       "      <th>manufacturer</th>\n",
       "      <th>mean</th>\n",
       "      <th>max</th>\n",
       "      <th>std</th>\n",
       "    </tr>\n",
       "  </thead>\n",
       "  <tbody>\n",
       "  </tbody>\n",
       "</table>\n",
       "</div>"
      ],
      "text/plain": [
       "Empty DataFrame\n",
       "Columns: [itapudid, na_value_ratio, manufacturer, mean, max, std]\n",
       "Index: []"
      ]
     },
     "execution_count": 7,
     "metadata": {},
     "output_type": "execute_result"
    }
   ],
   "source": [
    "df1[df1['na_value_ratio'] > (0.009589 + 3*0.006556)] # The outliers from the manufacturer Knorr Bremse"
   ]
  },
  {
   "cell_type": "code",
   "execution_count": 8,
   "metadata": {},
   "outputs": [
    {
     "data": {
      "text/html": [
       "<div>\n",
       "<style>\n",
       "    .dataframe thead tr:only-child th {\n",
       "        text-align: right;\n",
       "    }\n",
       "\n",
       "    .dataframe thead th {\n",
       "        text-align: left;\n",
       "    }\n",
       "\n",
       "    .dataframe tbody tr th {\n",
       "        vertical-align: top;\n",
       "    }\n",
       "</style>\n",
       "<table border=\"1\" class=\"dataframe\">\n",
       "  <thead>\n",
       "    <tr style=\"text-align: right;\">\n",
       "      <th></th>\n",
       "      <th>itapudid</th>\n",
       "      <th>na_value_ratio</th>\n",
       "      <th>manufacturer</th>\n",
       "      <th>mean</th>\n",
       "      <th>max</th>\n",
       "      <th>std</th>\n",
       "    </tr>\n",
       "  </thead>\n",
       "  <tbody>\n",
       "    <tr>\n",
       "      <th>3</th>\n",
       "      <td>163540018001DC915C935</td>\n",
       "      <td>0.319157</td>\n",
       "      <td>Haldex</td>\n",
       "      <td>142.673547</td>\n",
       "      <td>250.0</td>\n",
       "      <td>101.989739</td>\n",
       "    </tr>\n",
       "    <tr>\n",
       "      <th>50</th>\n",
       "      <td>164730014001DC924DA0D</td>\n",
       "      <td>0.400000</td>\n",
       "      <td>Haldex</td>\n",
       "      <td>68.666667</td>\n",
       "      <td>206.0</td>\n",
       "      <td>106.377943</td>\n",
       "    </tr>\n",
       "    <tr>\n",
       "      <th>127</th>\n",
       "      <td>164950018001DC92C87EE</td>\n",
       "      <td>0.760870</td>\n",
       "      <td>Haldex</td>\n",
       "      <td>22.888889</td>\n",
       "      <td>206.0</td>\n",
       "      <td>68.666667</td>\n",
       "    </tr>\n",
       "  </tbody>\n",
       "</table>\n",
       "</div>"
      ],
      "text/plain": [
       "                  itapudid  na_value_ratio manufacturer        mean    max  \\\n",
       "3    163540018001DC915C935        0.319157       Haldex  142.673547  250.0   \n",
       "50   164730014001DC924DA0D        0.400000       Haldex   68.666667  206.0   \n",
       "127  164950018001DC92C87EE        0.760870       Haldex   22.888889  206.0   \n",
       "\n",
       "            std  \n",
       "3    101.989739  \n",
       "50   106.377943  \n",
       "127   68.666667  "
      ]
     },
     "execution_count": 8,
     "metadata": {},
     "output_type": "execute_result"
    }
   ],
   "source": [
    "df2[df2['na_value_ratio'] > (0.080362 + 3*0.062800)] # The outliers from the manufacturer Haldex"
   ]
  }
 ],
 "metadata": {
  "anaconda-cloud": {},
  "kernelspec": {
   "display_name": "Python 3",
   "language": "python",
   "name": "python3"
  },
  "language_info": {
   "codemirror_mode": {
    "name": "ipython",
    "version": 3
   },
   "file_extension": ".py",
   "mimetype": "text/x-python",
   "name": "python",
   "nbconvert_exporter": "python",
   "pygments_lexer": "ipython3",
   "version": "3.6.1"
  }
 },
 "nbformat": 4,
 "nbformat_minor": 1
}
