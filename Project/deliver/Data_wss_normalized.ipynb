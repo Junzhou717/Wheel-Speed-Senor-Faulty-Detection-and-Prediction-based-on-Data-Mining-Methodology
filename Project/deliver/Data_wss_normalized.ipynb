{
 "cells": [
  {
   "cell_type": "code",
   "execution_count": 1,
   "metadata": {
    "collapsed": true
   },
   "outputs": [],
   "source": [
    "import pandas as pd\n",
    "df_cd = pd.read_pickle('../data/wss_n_1')\n",
    "df_ef = pd.read_pickle('../data/wss_n_2')"
   ]
  },
  {
   "cell_type": "code",
   "execution_count": 2,
   "metadata": {
    "collapsed": true
   },
   "outputs": [],
   "source": [
    "import pandasql as pdsql\n",
    "\n",
    "pysql = lambda q: pdsql.sqldf(q, globals())\n",
    "str1 = \"\"\"select \n",
    "             itapudid, sum(speed)\n",
    "        from \n",
    "            df_cd\n",
    "        group by \n",
    "            itapudid\"\"\"\n",
    "str2 = \"\"\"select \n",
    "             itapudid, sum(speed)\n",
    "        from \n",
    "            df_ef\n",
    "        group by \n",
    "            itapudid\"\"\"\n",
    "\n",
    "df_cd_1 = pysql(str1)\n",
    "df_ef_1 = pysql(str2)"
   ]
  },
  {
   "cell_type": "code",
   "execution_count": 3,
   "metadata": {
    "collapsed": true
   },
   "outputs": [],
   "source": [
    "df_cd_2 = df_cd_1[df_cd_1['sum(speed)'] == 0].itapudid\n",
    "df_ef_2 = df_ef_1[df_ef_1['sum(speed)'] == 0].itapudid"
   ]
  },
  {
   "cell_type": "code",
   "execution_count": 4,
   "metadata": {
    "collapsed": true
   },
   "outputs": [],
   "source": [
    "df_cd_list = df_cd_2.values.tolist()\n",
    "df_ef_list = df_ef_2.values.tolist()"
   ]
  },
  {
   "cell_type": "code",
   "execution_count": 5,
   "metadata": {
    "collapsed": true
   },
   "outputs": [],
   "source": [
    "for i in df_cd_list:\n",
    "    df_cd = df_cd[df_cd.itapudid != i]"
   ]
  },
  {
   "cell_type": "code",
   "execution_count": 6,
   "metadata": {
    "collapsed": true
   },
   "outputs": [],
   "source": [
    "for j in df_ef_list:\n",
    "    df_ef = df_ef[df_ef.itapudid != j]"
   ]
  },
  {
   "cell_type": "code",
   "execution_count": 9,
   "metadata": {
    "collapsed": true
   },
   "outputs": [],
   "source": [
    "df = pd.read_pickle('../data/wss_n1')\n",
    "df = df[df.itapudid =='170540055001DC915C90E']"
   ]
  },
  {
   "cell_type": "code",
   "execution_count": 11,
   "metadata": {},
   "outputs": [
    {
     "name": "stderr",
     "output_type": "stream",
     "text": [
      "C:\\Users\\600002464\\AppData\\Local\\Continuum\\Anaconda3\\lib\\site-packages\\ipykernel_launcher.py:2: SettingWithCopyWarning: \n",
      "A value is trying to be set on a copy of a slice from a DataFrame.\n",
      "Try using .loc[row_indexer,col_indexer] = value instead\n",
      "\n",
      "See the caveats in the documentation: http://pandas.pydata.org/pandas-docs/stable/indexing.html#indexing-view-versus-copy\n",
      "  \n",
      "C:\\Users\\600002464\\AppData\\Local\\Continuum\\Anaconda3\\lib\\site-packages\\pandas\\core\\generic.py:3549: SettingWithCopyWarning: \n",
      "A value is trying to be set on a copy of a slice from a DataFrame\n",
      "\n",
      "See the caveats in the documentation: http://pandas.pydata.org/pandas-docs/stable/indexing.html#indexing-view-versus-copy\n",
      "  self._update_inplace(new_data)\n",
      "C:\\Users\\600002464\\AppData\\Local\\Continuum\\Anaconda3\\lib\\site-packages\\ipykernel_launcher.py:7: SettingWithCopyWarning: \n",
      "A value is trying to be set on a copy of a slice from a DataFrame.\n",
      "Try using .loc[row_indexer,col_indexer] = value instead\n",
      "\n",
      "See the caveats in the documentation: http://pandas.pydata.org/pandas-docs/stable/indexing.html#indexing-view-versus-copy\n",
      "  import sys\n",
      "C:\\Users\\600002464\\AppData\\Local\\Continuum\\Anaconda3\\lib\\site-packages\\ipykernel_launcher.py:12: SettingWithCopyWarning: \n",
      "A value is trying to be set on a copy of a slice from a DataFrame.\n",
      "Try using .loc[row_indexer,col_indexer] = value instead\n",
      "\n",
      "See the caveats in the documentation: http://pandas.pydata.org/pandas-docs/stable/indexing.html#indexing-view-versus-copy\n",
      "  if sys.path[0] == '':\n",
      "C:\\Users\\600002464\\AppData\\Local\\Continuum\\Anaconda3\\lib\\site-packages\\ipykernel_launcher.py:17: SettingWithCopyWarning: \n",
      "A value is trying to be set on a copy of a slice from a DataFrame.\n",
      "Try using .loc[row_indexer,col_indexer] = value instead\n",
      "\n",
      "See the caveats in the documentation: http://pandas.pydata.org/pandas-docs/stable/indexing.html#indexing-view-versus-copy\n"
     ]
    }
   ],
   "source": [
    "df_nc = df[['itapudid', 'max1stdetectwssc', 'eventtime']]\n",
    "df_nc['sensor'] = 'C'\n",
    "df_nc.columns = ['itapudid', 'speed', 'eventtime', 'sensor']\n",
    "df_nc.speed.fillna(0, inplace=True)\n",
    "\n",
    "df_nd = df[['itapudid', 'max1stdetectwssd', 'eventtime']]\n",
    "df_nd['sensor'] = 'D'\n",
    "df_nd.columns = ['itapudid', 'speed', 'eventtime', 'sensor']\n",
    "df_nd.speed.fillna(0, inplace=True)\n",
    "\n",
    "df_ne = df[['itapudid', 'max1stdetectwsse', 'eventtime']]\n",
    "df_ne['sensor'] = 'E'\n",
    "df_ne.columns = ['itapudid', 'speed', 'eventtime', 'sensor']\n",
    "df_ne.speed.fillna(0, inplace=True)\n",
    "\n",
    "df_nf = df[['itapudid', 'max1stdetectwssf', 'eventtime']]\n",
    "df_nf['sensor'] = 'F'\n",
    "df_nf.columns = ['itapudid', 'speed', 'eventtime', 'sensor']\n",
    "df_nf.speed.fillna(0, inplace=True)"
   ]
  },
  {
   "cell_type": "code",
   "execution_count": 13,
   "metadata": {
    "collapsed": true
   },
   "outputs": [],
   "source": [
    "frame = [df_nc, df_nd, df_ne, df_nf]\n",
    "re = pd.concat(frame)\n",
    "test = re.sort_values(['eventtime','itapudid'])"
   ]
  },
  {
   "cell_type": "code",
   "execution_count": 14,
   "metadata": {
    "collapsed": true
   },
   "outputs": [],
   "source": [
    "frame1 = [df_cd, df_ef, test]\n",
    "re1 = pd.concat(frame1)\n",
    "datafinal = re1.sort_values(['eventtime','itapudid'])"
   ]
  },
  {
   "cell_type": "code",
   "execution_count": 15,
   "metadata": {
    "collapsed": true
   },
   "outputs": [],
   "source": [
    "datafinal.to_pickle('../data/wss_n_c1')"
   ]
  },
  {
   "cell_type": "code",
   "execution_count": null,
   "metadata": {
    "collapsed": true
   },
   "outputs": [],
   "source": []
  }
 ],
 "metadata": {
  "kernelspec": {
   "display_name": "Python 3",
   "language": "python",
   "name": "python3"
  },
  "language_info": {
   "codemirror_mode": {
    "name": "ipython",
    "version": 3
   },
   "file_extension": ".py",
   "mimetype": "text/x-python",
   "name": "python",
   "nbconvert_exporter": "python",
   "pygments_lexer": "ipython3",
   "version": "3.6.1"
  }
 },
 "nbformat": 4,
 "nbformat_minor": 2
}
