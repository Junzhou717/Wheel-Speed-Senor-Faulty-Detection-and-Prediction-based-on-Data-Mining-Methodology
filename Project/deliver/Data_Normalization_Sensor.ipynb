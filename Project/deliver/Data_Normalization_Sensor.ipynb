{
 "cells": [
  {
   "cell_type": "code",
   "execution_count": 1,
   "metadata": {
    "collapsed": true
   },
   "outputs": [],
   "source": [
    "import pandas as pd"
   ]
  },
  {
   "cell_type": "code",
   "execution_count": 12,
   "metadata": {
    "collapsed": true
   },
   "outputs": [],
   "source": [
    "df = pd.read_pickle('../data/wss_n_c1')\n",
    "df_NA = pd.read_pickle('../data/na_ratio_wss_sensor')\n",
    "df_m = pd.read_pickle('../data/manufacturer')"
   ]
  },
  {
   "cell_type": "code",
   "execution_count": 3,
   "metadata": {
    "collapsed": true
   },
   "outputs": [],
   "source": [
    "def cal_speed(df, df_NA):\n",
    "    sensor = ['C', 'D', 'E', 'F']\n",
    "    for i, s in enumerate(sensor):\n",
    "        df_s = df[df.sensor == s].groupby('itapudid').describe().reset_index()\n",
    "        df_s1 = df_s.itapudid\n",
    "        df_s2 = df_s.speed\n",
    "        df_s = pd.concat([df_s1, df_s2], axis=1)\n",
    "        df_s = df_s[['itapudid', 'mean', 'max', 'std']]\n",
    "        # Skewness and kurtosis\n",
    "        df_k = df[df.sensor == s].groupby('itapudid').apply(pd.DataFrame.kurt).reset_index()\n",
    "        df_k = df_k.rename(columns={'speed':'kurt'})\n",
    "        df_sk = df[df.sensor == s].groupby('itapudid').skew().reset_index()\n",
    "        df_sk = df_sk.rename(columns={'speed':'skew'})\n",
    "        df_k_sk = pd.merge(df_k, df_sk, how='left', on='itapudid')\n",
    "    \n",
    "        df_s = pd.merge(df_s, df_k_sk, how='left', on='itapudid')\n",
    "        df_s['sensor'] = s\n",
    "        if(s == 'C' or s == 'E'): \n",
    "            df_NA_C = df_NA[df_NA.sensor1 == s]\n",
    "            df_NA_C = df_NA_C[['itapudid', 'na_value_ratio1']].reset_index(drop = True)\n",
    "            df_NA_C = df_NA_C.rename(columns={'na_value_ratio1':'na_value_ratio'})\n",
    "        else:\n",
    "            df_NA_C = df_NA[df_NA.sensor2 == s]\n",
    "            df_NA_C = df_NA_C[['itapudid', 'na_value_ratio2']].reset_index(drop = True)\n",
    "            df_NA_C = df_NA_C.rename(columns={'na_value_ratio2':'na_value_ratio'})\n",
    "        df_m = pd.merge(df_s, df_NA_C, how='left', on='itapudid')\n",
    "        if(i==0):\n",
    "            df_f = df_m\n",
    "        else:\n",
    "            df_f = pd.concat([df_f, df_m])\n",
    "    df_f = df_f.sort_values(['itapudid']).reset_index(drop = True)\n",
    "    \n",
    "    return df_f"
   ]
  },
  {
   "cell_type": "code",
   "execution_count": 4,
   "metadata": {},
   "outputs": [],
   "source": [
    "result = cal_speed(df, df_NA)"
   ]
  },
  {
   "cell_type": "code",
   "execution_count": 8,
   "metadata": {
    "collapsed": true
   },
   "outputs": [],
   "source": [
    "result = result.dropna(axis=0, how='any').reset_index(drop = True)"
   ]
  },
  {
   "cell_type": "code",
   "execution_count": 13,
   "metadata": {},
   "outputs": [],
   "source": [
    "result = pd.merge(result, df_m, how='left', on='itapudid')"
   ]
  },
  {
   "cell_type": "code",
   "execution_count": 15,
   "metadata": {},
   "outputs": [],
   "source": [
    "result = result.dropna(axis=0, how='any').reset_index(drop = True)"
   ]
  },
  {
   "cell_type": "code",
   "execution_count": 16,
   "metadata": {},
   "outputs": [],
   "source": [
    "result.to_pickle('../data/wss_s')"
   ]
  },
  {
   "cell_type": "code",
   "execution_count": null,
   "metadata": {
    "collapsed": true
   },
   "outputs": [],
   "source": []
  }
 ],
 "metadata": {
  "kernelspec": {
   "display_name": "Python 3",
   "language": "python",
   "name": "python3"
  },
  "language_info": {
   "codemirror_mode": {
    "name": "ipython",
    "version": 3
   },
   "file_extension": ".py",
   "mimetype": "text/x-python",
   "name": "python",
   "nbconvert_exporter": "python",
   "pygments_lexer": "ipython3",
   "version": "3.6.1"
  }
 },
 "nbformat": 4,
 "nbformat_minor": 2
}
